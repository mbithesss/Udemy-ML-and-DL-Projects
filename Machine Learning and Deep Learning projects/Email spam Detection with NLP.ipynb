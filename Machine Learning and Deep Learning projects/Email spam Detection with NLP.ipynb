{
 "cells": [
  {
   "cell_type": "markdown",
   "id": "93f78c4e-59b6-47b0-b395-c6164f8c16a9",
   "metadata": {},
   "source": [
    "## Email Spam Detection with Machine Learning"
   ]
  },
  {
   "cell_type": "code",
   "execution_count": 1,
   "id": "fd4792c5-49cc-4cf4-8e9c-d7006985e0c9",
   "metadata": {},
   "outputs": [],
   "source": [
    "import pandas as pd\n",
    "import numpy as np\n",
    "import nltk\n",
    "from nltk.corpus import stopwords\n",
    "import string"
   ]
  },
  {
   "cell_type": "code",
   "execution_count": 2,
   "id": "91308e8c-3cf2-450b-af25-4cfcae56d82f",
   "metadata": {},
   "outputs": [
    {
     "data": {
      "text/html": [
       "<div>\n",
       "<style scoped>\n",
       "    .dataframe tbody tr th:only-of-type {\n",
       "        vertical-align: middle;\n",
       "    }\n",
       "\n",
       "    .dataframe tbody tr th {\n",
       "        vertical-align: top;\n",
       "    }\n",
       "\n",
       "    .dataframe thead th {\n",
       "        text-align: right;\n",
       "    }\n",
       "</style>\n",
       "<table border=\"1\" class=\"dataframe\">\n",
       "  <thead>\n",
       "    <tr style=\"text-align: right;\">\n",
       "      <th></th>\n",
       "      <th>text</th>\n",
       "      <th>spam</th>\n",
       "    </tr>\n",
       "  </thead>\n",
       "  <tbody>\n",
       "    <tr>\n",
       "      <th>0</th>\n",
       "      <td>Subject: naturally irresistible your corporate...</td>\n",
       "      <td>1</td>\n",
       "    </tr>\n",
       "    <tr>\n",
       "      <th>1</th>\n",
       "      <td>Subject: the stock trading gunslinger  fanny i...</td>\n",
       "      <td>1</td>\n",
       "    </tr>\n",
       "    <tr>\n",
       "      <th>2</th>\n",
       "      <td>Subject: unbelievable new homes made easy  im ...</td>\n",
       "      <td>1</td>\n",
       "    </tr>\n",
       "    <tr>\n",
       "      <th>3</th>\n",
       "      <td>Subject: 4 color printing special  request add...</td>\n",
       "      <td>1</td>\n",
       "    </tr>\n",
       "    <tr>\n",
       "      <th>4</th>\n",
       "      <td>Subject: do not have money , get software cds ...</td>\n",
       "      <td>1</td>\n",
       "    </tr>\n",
       "  </tbody>\n",
       "</table>\n",
       "</div>"
      ],
      "text/plain": [
       "                                                text  spam\n",
       "0  Subject: naturally irresistible your corporate...     1\n",
       "1  Subject: the stock trading gunslinger  fanny i...     1\n",
       "2  Subject: unbelievable new homes made easy  im ...     1\n",
       "3  Subject: 4 color printing special  request add...     1\n",
       "4  Subject: do not have money , get software cds ...     1"
      ]
     },
     "execution_count": 2,
     "metadata": {},
     "output_type": "execute_result"
    }
   ],
   "source": [
    "df = pd.read_csv(r\"C:\\Users\\SALOME\\Downloads\\Requirement (1)\\emails.csv\")\n",
    "df.head()"
   ]
  },
  {
   "cell_type": "code",
   "execution_count": 3,
   "id": "0bd6b1ae-c321-4321-9c8c-f5efa81e4703",
   "metadata": {},
   "outputs": [
    {
     "data": {
      "text/plain": [
       "(5728, 2)"
      ]
     },
     "execution_count": 3,
     "metadata": {},
     "output_type": "execute_result"
    }
   ],
   "source": [
    "df.shape"
   ]
  },
  {
   "cell_type": "code",
   "execution_count": 4,
   "id": "43845c7b-8b8c-4398-97d1-1bd06b798754",
   "metadata": {},
   "outputs": [
    {
     "data": {
      "text/plain": [
       "Index(['text', 'spam'], dtype='object')"
      ]
     },
     "execution_count": 4,
     "metadata": {},
     "output_type": "execute_result"
    }
   ],
   "source": [
    "df.columns"
   ]
  },
  {
   "cell_type": "markdown",
   "id": "7a7bfa36-8f0f-4f93-bf2b-5bfe364b639b",
   "metadata": {},
   "source": [
    "## Check for duplicates and remove them"
   ]
  },
  {
   "cell_type": "code",
   "execution_count": 5,
   "id": "417f9162-90ad-455f-b6ba-6fe28ab362da",
   "metadata": {},
   "outputs": [
    {
     "data": {
      "text/plain": [
       "(5695, 2)"
      ]
     },
     "execution_count": 5,
     "metadata": {},
     "output_type": "execute_result"
    }
   ],
   "source": [
    "df.drop_duplicates(inplace = True)\n",
    "df.shape"
   ]
  },
  {
   "cell_type": "code",
   "execution_count": 6,
   "id": "93db1a6a-b4c0-490e-898f-935a2ebb62d7",
   "metadata": {},
   "outputs": [
    {
     "name": "stdout",
     "output_type": "stream",
     "text": [
      "text    0\n",
      "spam    0\n",
      "dtype: int64\n"
     ]
    }
   ],
   "source": [
    "## See the number of missing data for each columm\n",
    "print(df.isnull().sum())"
   ]
  },
  {
   "cell_type": "markdown",
   "id": "203ec2b7-fc04-41c0-a1a2-fa0df4b0ca84",
   "metadata": {},
   "source": [
    "## Download the stop words"
   ]
  },
  {
   "cell_type": "code",
   "execution_count": 7,
   "id": "323daa24-ca1b-4d6d-a325-80b33f825d63",
   "metadata": {},
   "outputs": [
    {
     "name": "stderr",
     "output_type": "stream",
     "text": [
      "[nltk_data] Downloading package stopwords to\n",
      "[nltk_data]     C:\\Users\\SALOME\\AppData\\Roaming\\nltk_data...\n",
      "[nltk_data]   Package stopwords is already up-to-date!\n"
     ]
    },
    {
     "data": {
      "text/plain": [
       "True"
      ]
     },
     "execution_count": 7,
     "metadata": {},
     "output_type": "execute_result"
    }
   ],
   "source": [
    "nltk.download(\"stopwords\")"
   ]
  },
  {
   "cell_type": "code",
   "execution_count": 8,
   "id": "72630c70-37eb-4edc-a4e9-a1256306a3f8",
   "metadata": {},
   "outputs": [
    {
     "data": {
      "text/plain": [
       "0    [Subject, naturally, irresistible, corporate, ...\n",
       "1    [Subject, stock, trading, gunslinger, fanny, m...\n",
       "2    [Subject, unbelievable, new, homes, made, easy...\n",
       "3    [Subject, 4, color, printing, special, request...\n",
       "4    [Subject, money, get, software, cds, software,...\n",
       "Name: text, dtype: object"
      ]
     },
     "execution_count": 8,
     "metadata": {},
     "output_type": "execute_result"
    }
   ],
   "source": [
    "def process(text):\n",
    "    nopunc = [char for char in text if char not in string.punctuation]\n",
    "    nopunc = ''.join(nopunc)\n",
    "    \n",
    "    clean = [word for word in nopunc.split() if word.lower() not in stopwords.words('english')]\n",
    "    return clean\n",
    "# to show tokenization\n",
    "df['text'].head().apply(process)"
   ]
  },
  {
   "cell_type": "markdown",
   "id": "9626a4f3-98f5-4b6b-ad1d-17b699ac56b3",
   "metadata": {},
   "source": [
    "## Convert the text into a matrix of token counts"
   ]
  },
  {
   "cell_type": "code",
   "execution_count": 9,
   "id": "0d64306b-8a14-4224-b86f-dc31a6db3270",
   "metadata": {},
   "outputs": [],
   "source": [
    "from sklearn.feature_extraction.text import CountVectorizer"
   ]
  },
  {
   "cell_type": "code",
   "execution_count": null,
   "id": "8457688a-091a-40dc-8aea-950811d79c50",
   "metadata": {},
   "outputs": [],
   "source": [
    "vectorizer = CountVectorizer(analyzer=process)\n",
    "message = vectorizer.fit_transform(df['text'])"
   ]
  },
  {
   "cell_type": "code",
   "execution_count": null,
   "id": "72f11f70-07c5-4a13-9e36-a774fc8c375b",
   "metadata": {},
   "outputs": [],
   "source": [
    "# split the data into 80% training and 20% testing\n",
    "from sklearn.model_selection import train_test_split\n",
    "xtrain, xtest, ytrain, ytest = train_test_split(message, df['spam'], text_size=0.20, random_state=0)\n",
    "#To see the shape of the data\n",
    "print(message.shape)"
   ]
  },
  {
   "cell_type": "markdown",
   "id": "244cf527-4e06-4339-8f87-a38940ebe95e",
   "metadata": {},
   "source": [
    "## Create and train the Naive Bayes classifier"
   ]
  },
  {
   "cell_type": "code",
   "execution_count": null,
   "id": "2b32c92e-ea98-49f8-9675-41c0629f5f87",
   "metadata": {},
   "outputs": [],
   "source": [
    "from sklearn.naive_bayes import MultinomialNB\n",
    "classifier = MultiNomialNB().fit(xtrain, ytrain)"
   ]
  },
  {
   "cell_type": "markdown",
   "id": "2dfd3495-6634-47f0-a320-9ce47c32fb3d",
   "metadata": {},
   "source": [
    "## See the classifier's prediction and actual values on the data set"
   ]
  },
  {
   "cell_type": "code",
   "execution_count": null,
   "id": "13b3c795-8688-4b4e-99f6-0030eaf45973",
   "metadata": {},
   "outputs": [],
   "source": [
    "print(classifier.predict(xtrain))\n",
    "print(ytrain.values)"
   ]
  },
  {
   "cell_type": "code",
   "execution_count": null,
   "id": "df6da7ac-c05e-4491-a99d-4996adacfa65",
   "metadata": {},
   "outputs": [],
   "source": [
    "## Evaluating the model on the training data set\n",
    "from sklearn.metrics import classification_report, confusion_matrix, accuracy_score\n",
    "pred = Classifier.predict(xtrain)\n",
    "print(classification_report(ytrain, pred))\n",
    "print()\n",
    "print(\"Confusion matrix: \\n\", confusion_matrix(ytrain, pred))\n",
    "print(\"Accuracy: \\n\", accuracy_score(ytrain, pred))"
   ]
  },
  {
   "cell_type": "code",
   "execution_count": null,
   "id": "e9699aa5-f113-4c7b-a94b-466c5ab65b1c",
   "metadata": {},
   "outputs": [],
   "source": [
    "# Print the predictions\n",
    "print(classifier.predict(xtest))\n",
    "#print the actual values\n",
    "print(ytest.values)"
   ]
  },
  {
   "cell_type": "markdown",
   "id": "28dcca77-c7b9-4e04-a56d-fe438b4805b2",
   "metadata": {},
   "source": [
    "## Evaluate the model on the test data set"
   ]
  },
  {
   "cell_type": "code",
   "execution_count": null,
   "id": "23817c01-37ee-4235-bed8-52d0e28501ec",
   "metadata": {},
   "outputs": [],
   "source": [
    "pred = classifier.predict(xtest))\n",
    "print(classification_report(ytest, pred))\n",
    "print()\n",
    "print(\"Confusion matrix: \\n\", confusion_matrix(ytest, pred))\n",
    "print(\"Accuracy: \\n\", accuracy_score(ytest, pred))\n"
   ]
  },
  {
   "cell_type": "code",
   "execution_count": null,
   "id": "dfab09c5-f078-4bc2-82ee-d35b70a721f4",
   "metadata": {},
   "outputs": [],
   "source": []
  }
 ],
 "metadata": {
  "kernelspec": {
   "display_name": "Python 3 (ipykernel)",
   "language": "python",
   "name": "python3"
  },
  "language_info": {
   "codemirror_mode": {
    "name": "ipython",
    "version": 3
   },
   "file_extension": ".py",
   "mimetype": "text/x-python",
   "name": "python",
   "nbconvert_exporter": "python",
   "pygments_lexer": "ipython3",
   "version": "3.11.3"
  }
 },
 "nbformat": 4,
 "nbformat_minor": 5
}
